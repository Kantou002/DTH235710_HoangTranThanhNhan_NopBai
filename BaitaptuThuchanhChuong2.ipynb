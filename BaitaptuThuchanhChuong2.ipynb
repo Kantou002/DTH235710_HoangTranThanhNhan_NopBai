{
 "cells": [
  {
   "metadata": {
    "ExecuteTime": {
     "end_time": "2025-08-30T08:54:36.102797Z",
     "start_time": "2025-08-30T08:54:31.483886Z"
    }
   },
   "cell_type": "code",
   "source": [
    "#Câu 1: Tính chu vi diện tích Hình tròn\n",
    "import math\n",
    "\n",
    "try:\n",
    "    r=float(input(\"Mời bạn nhập bán kính hình tròn:\"))\n",
    "    cv=2*math.pi*r\n",
    "    dt=r**2*math.pi\n",
    "    print(\"Chu vi =\",cv)\n",
    "    print(\"Diện tích=\",dt)\n",
    "except:\n",
    "    print(\"Lỗi rồi!\")"
   ],
   "id": "3dbaa830cada6980",
   "outputs": [
    {
     "name": "stdout",
     "output_type": "stream",
     "text": [
      "Chu vi = 6.283185307179586\n",
      "Diện tích= 3.141592653589793\n"
     ]
    }
   ],
   "execution_count": 3
  },
  {
   "metadata": {
    "ExecuteTime": {
     "end_time": "2025-08-30T09:19:18.852411Z",
     "start_time": "2025-08-30T09:19:14.634474Z"
    }
   },
   "cell_type": "code",
   "source": [
    "#Câu 2: Tính giờ phút giây\n",
    "t=int(input(\"Nhập số giây:\"))\n",
    "hour=(t//3600)%24\n",
    "minute=(t%3600)//60\n",
    "second=(t%3600)%60\n",
    "count=0\n",
    "while hour>12:\n",
    "    hour=hour-12\n",
    "    count=count+1\n",
    "if count%2==0:\n",
    "    print(hour,\":\",minute,\":\",second, \"AM\")\n",
    "else:\n",
    "    print(hour,\":\",minute,\":\",second, \"PM\")"
   ],
   "id": "59fdd1596ed102b4",
   "outputs": [
    {
     "name": "stdout",
     "output_type": "stream",
     "text": [
      "6 : 13 : 20 AM\n"
     ]
    }
   ],
   "execution_count": 16
  },
  {
   "metadata": {
    "ExecuteTime": {
     "end_time": "2025-08-30T09:18:58.475214Z",
     "start_time": "2025-08-30T09:18:48.682122Z"
    }
   },
   "cell_type": "code",
   "source": [
    "#Câu 3: Tính điểm trung bình\n",
    "toan=float(input(\"Nhập điểm Toán:\"))\n",
    "ly=float(input(\"Nhập điểm lý:\"))\n",
    "hoa=float(input(\"Nhập điểm hóa:\"))\n",
    "dtb=(toan+ly+hoa)/3\n",
    "print(\"Điểm trung bình=\",dtb)\n",
    "print(\"Điểm làm tròn=\",round(dtb,2))"
   ],
   "id": "20f84b6ff19b5553",
   "outputs": [
    {
     "name": "stdout",
     "output_type": "stream",
     "text": [
      "Điểm trung bình= 8.0\n",
      "Điểm làm tròn= 8.0\n"
     ]
    }
   ],
   "execution_count": 15
  },
  {
   "metadata": {},
   "cell_type": "code",
   "outputs": [],
   "execution_count": null,
   "source": [
    "'''\n",
    "Câu 4:Python hỗ trợ những kiểu dữ liệu cơ bản nào?\n",
    "    -Python hỗ trợ các kiểu dữ liệu cơ bản sau:\n",
    "    -int: Số nguyên (ví dụ: 1, -5, 100)\n",
    "    -float: Số thực (ví dụ: 3.14, -0.001)\n",
    "    -bool: Kiểu logic (giá trị: True hoặc False)\n",
    "    -str: Chuỗi ký tự (ví dụ: \"hello\", 'Python')\n",
    "    -list: Danh sách (ví dụ: [1, 2, 3])\n",
    "    -tuple: Bộ giá trị (ví dụ: (1, 2, 3))\n",
    "    -dict: Từ điển (ví dụ: {\"a\": 1, \"b\": 2})\n",
    "    -set: Tập hợp (ví dụ: {1, 2, 3})\n",
    "'''"
   ],
   "id": "b3a4db8e80cb8f66"
  },
  {
   "metadata": {
    "ExecuteTime": {
     "end_time": "2025-08-30T09:26:26.095318Z",
     "start_time": "2025-08-30T09:26:26.081498Z"
    }
   },
   "cell_type": "code",
   "source": [
    "'''\n",
    "Câu 5:Trình bày các loại ghi chú trong Python.\n",
    "1. Ghi chú một dòng (Single-line comment)\n",
    "    -Bắt đầu bằng dấu #.\n",
    "    -Nội dung sau dấu # sẽ được Python bỏ qua khi chạy.\n",
    "2. Ghi chú nhiều dòng (Multi-line comment)\n",
    "    -Không có cú pháp ghi chú nhiều dòng thực sự như một số ngôn ngữ khác.\n",
    "    -Thường dùng nhiều dấu # liên tiếp cho từng dòng:\n",
    "'''"
   ],
   "id": "f4c5a06b035a628d",
   "outputs": [
    {
     "data": {
      "text/plain": [
       "'\\nCâu 5\\n# 1. Ghi chú một dòng (Single-line comment)\\n# Bắt đầu bằng dấu #.\\n# Nội dung sau dấu # sẽ được Python bỏ qua khi chạy.\\n# 2. Ghi chú nhiều dòng (Multi-line comment)\\n# Không có cú pháp ghi chú nhiều dòng thực sự như một số ngôn ngữ khác.\\n# Thường dùng nhiều dấu # liên tiếp cho từng dòng:\\n'"
      ]
     },
     "execution_count": 17,
     "metadata": {},
     "output_type": "execute_result"
    }
   ],
   "execution_count": 17
  },
  {
   "metadata": {
    "ExecuteTime": {
     "end_time": "2025-08-30T09:33:21.201352Z",
     "start_time": "2025-08-30T09:33:21.196610Z"
    }
   },
   "cell_type": "code",
   "source": [
    "'''\n",
    "Câu 6: Trình bày ý nghĩa toán tử /, //, %, **, and, or, is.\n",
    "/ : Chia lấy kết quả thực (float).\n",
    "Ví dụ: 5 / 2 → 2.5\n",
    "\n",
    "//: Chia lấy phần nguyên (floor division).\n",
    "Ví dụ: 5 // 2 → 2\n",
    "\n",
    "% : Chia lấy phần dư (modulo).\n",
    "Ví dụ: 5 % 2 → 1\n",
    "\n",
    "** : Lũy thừa (power).\n",
    "Ví dụ: 2 ** 3 → 8\n",
    "\n",
    "and : Toán tử logic \"và\", trả về True nếu cả hai vế đều True.\n",
    "Ví dụ: True and False → False\n",
    "\n",
    "or : Toán tử logic \"hoặc\", trả về True nếu ít nhất một vế là True.\n",
    "Ví dụ: True or False → True\n",
    "\n",
    "is : So sánh hai đối tượng có cùng tham chiếu (cùng vị trí trong bộ nhớ) hay không.\n",
    "Ví dụ:\n",
    "    a = [1, 2]\n",
    "    b = a\n",
    "    a is b  # True\n",
    "    c = [1, 2]\n",
    "    a is c  # False\n",
    "    '''"
   ],
   "id": "a539878b95e7d7b7",
   "outputs": [
    {
     "data": {
      "text/plain": [
       "'\\nCâu 6: Trình bày ý nghĩa toán tử /, //, %, **, and, or, is.\\n/ : Chia lấy kết quả thực (float).\\nVí dụ: 5 / 2 → 2.5\\n\\n//: Chia lấy phần nguyên (floor division).\\nVí dụ: 5 // 2 → 2\\n\\n% : Chia lấy phần dư (modulo).\\nVí dụ: 5 % 2 → 1\\n\\n** : Lũy thừa (power).\\nVí dụ: 2 ** 3 → 8\\n\\nand : Toán tử logic \"và\", trả về True nếu cả hai vế đều True.\\nVí dụ: True and False → False\\n\\nor : Toán tử logic \"hoặc\", trả về True nếu ít nhất một vế là True.\\nVí dụ: True or False → True\\n\\nis : So sánh hai đối tượng có cùng tham chiếu (cùng vị trí trong bộ nhớ) hay không.\\nVí dụ:\\n    a = [1, 2]\\n    b = a\\n    a is b  # True\\n    c = [1, 2]\\n    a is c  # False\\n    '"
      ]
     },
     "execution_count": 21,
     "metadata": {},
     "output_type": "execute_result"
    }
   ],
   "execution_count": 21
  },
  {
   "metadata": {
    "ExecuteTime": {
     "end_time": "2025-08-30T09:34:40.966402Z",
     "start_time": "2025-08-30T09:34:40.959406Z"
    }
   },
   "cell_type": "code",
   "source": [
    "'''\n",
    "Câu 7: Trình bày một số cách nhập dữ liệu từ bàn phím.\n",
    "1. Sử dụng hàm input()\n",
    "-Nhập dữ liệu dưới dạng chuỗi (string):\n",
    "    name = input(\"Nhập tên của bạn: \")\n",
    "    print(\"Xin chào,\", name)\n",
    "2. Nhập và chuyển đổi kiểu dữ liệu\n",
    "-Dùng int(), float() để chuyển đổi dữ liệu nhập vào:\n",
    "    age = int(input(\"Nhập tuổi của bạn: \"))\n",
    "    height = float(input(\"Nhập chiều cao (m): \"))\n",
    "3. Nhập nhiều giá trị trên một dòng\n",
    "-Dùng split() để tách các giá trị:\n",
    "    a, b = input(\"Nhập hai số, cách nhau bởi dấu cách: \").split()\n",
    "    a = int(a)\n",
    "    b = int(b)\n",
    "-Hoặc nhập nhiều số và chuyển sang danh sách số nguyên:\n",
    "    numbers = list(map(int, input(\"Nhập các số, cách nhau bởi dấu cách: \").split()))\n",
    "'''"
   ],
   "id": "f17a2d34c8ef922a",
   "outputs": [
    {
     "data": {
      "text/plain": [
       "'\\nCâu 7: Trình bày một số cách nhập dữ liệu từ bàn phím.\\n1. Sử dụng hàm input()\\n-Nhập dữ liệu dưới dạng chuỗi (string):\\n    name = input(\"Nhập tên của bạn: \")\\n    print(\"Xin chào,\", name)\\n2. Nhập và chuyển đổi kiểu dữ liệu\\n-Dùng int(), float() để chuyển đổi dữ liệu nhập vào:\\n    age = int(input(\"Nhập tuổi của bạn: \"))\\n    height = float(input(\"Nhập chiều cao (m): \"))\\n3. Nhập nhiều giá trị trên một dòng\\n-Dùng split() để tách các giá trị:\\n    a, b = input(\"Nhập hai số, cách nhau bởi dấu cách: \").split()\\n    a = int(a)\\n    b = int(b)\\n-Hoặc nhập nhiều số và chuyển sang danh sách số nguyên:\\n    numbers = list(map(int, input(\"Nhập các số, cách nhau bởi dấu cách: \").split()))\\n'"
      ]
     },
     "execution_count": 23,
     "metadata": {},
     "output_type": "execute_result"
    }
   ],
   "execution_count": 23
  },
  {
   "metadata": {},
   "cell_type": "code",
   "outputs": [],
   "execution_count": null,
   "source": [
    "'''\n",
    "*Các loại lỗi khi lập trình Python:\n",
    "1.Lỗi cú pháp (SyntaxError): Do viết sai quy tắc ngôn ngữ.\n",
    "2.Lỗi thực thi (Runtime Error): Xảy ra khi chương trình đang chạy, ví dụ chia cho 0, truy cập biến chưa khai báo.\n",
    "3.Lỗi logic (Logic Error): Chương trình chạy không báo lỗi nhưng kết quả sai do sai thuật toán.\n",
    "*Cách bắt lỗi trong Python (Exception Handling)\n",
    "Sử dụng khối try...except để bắt và xử lý lỗi:\n",
    "*Cách bắt lỗi trong Python (Exception Handling)\n",
    "-Sử dụng khối try...except để bắt và xử lý lỗi:\n",
    "    try:\n",
    "        a = int(input(\"Nhập số: \"))\n",
    "        b = 10 / a\n",
    "        print(b)\n",
    "    #Đặt mã dễ gây lỗi vào khối try.\n",
    "    except ZeroDivisionError:\n",
    "        print(\"Không được chia cho 0!\")\n",
    "    #Dùng except để xử lý từng loại lỗi cụ thể.\n",
    "    except ValueError:\n",
    "        print(\"Vui lòng nhập số nguyên!\")\n",
    "    #Dùng except để xử lý từng loại lỗi cụ thể.\n",
    "    except Exception as e:\n",
    "        print(\"Lỗi khác:\", e)\n",
    "    #Exception bắt mọi lỗi còn lại.\n",
    "\n",
    "'''"
   ],
   "id": "7fc1de1026516c83"
  },
  {
   "metadata": {},
   "cell_type": "code",
   "outputs": [],
   "execution_count": null,
   "source": [
    "'''\n",
    "Câu 9: Giải thích kết quả tính toán của các biểu thức\n",
    "Với:\n",
    "i1 = 2\n",
    "i2 = 5\n",
    "i3 = -3\n",
    "d1 = 2.0\n",
    "d2 = 5.0\n",
    "d3 = -0.5\n",
    "Ta thực hiện phép toán theo thứ tự ưu tiên: Ngoặc đơn>Lũy thừa>Dấu âm, dương đơn(-x,+x)>Nhân, chia, chia lấy nguyên, chia lấy dư>Cộng, trừ>Toán tử so sánh>Toán tử logic : not > and > or\n",
    "(a) i1 + (i2 * i3)= -13\n",
    "(b) i1 * (i2 + i3)= 4\n",
    "(c) i1 / (i2 + i3)= 1.0\n",
    "(d) i1 // (i2 + i3)= 1\n",
    "(e) i1 / i2 + i3= -2.6\n",
    "(f) i1 // i2 + i3= -3\n",
    "(g) 3 + 4 + 5 / 3= 8.666666666666666\n",
    "(h) 3 + 4 + 5 // 3= 8\n",
    "(i) (3 + 4 + 5) / 3= 4.0\n",
    "(j) (3 + 4 + 5) // 3= 4\n",
    "(k) d1 + (d2 * d3)= -0.5\n",
    "(l) d1 + d2 * d3= -0.5\n",
    "(m) d1 / d2 - d3= 0.9\n",
    "(n) d1 / (d2 - d3)= 0.36363636363636365\n",
    "(o) d1 + d2 + d3 / 3= 6.833333333333333\n",
    "(p) (d1 + d2 + d3)/ 3= 2.1666666666666665 #sai số làm tròn\n",
    "(q) d1 + d2 + (d3 / 3)= 6.833333333333333\n",
    "(r) 3 * (d1 + d2) * (d1 - d3)= 52.5\n",
    "'''"
   ],
   "id": "8dcb5ac7b6838efe"
  },
  {
   "metadata": {},
   "cell_type": "code",
   "outputs": [],
   "execution_count": null,
   "source": [
    "'''\n",
    "Câu 10: Hãy viết ngắn gọn lại các lệnh dưới đây\n",
    "(a) x += 1\n",
    "(b) x /= 2\n",
    "(c) x -= 1\n",
    "(d) x += y\n",
    "(e) x -= (y + 7)\n",
    "(f) x *= 2\n",
    "(g) number_of_closed_cases += 2*ncc\n",
    "'''"
   ],
   "id": "8f8efdc780cd87f2"
  }
 ],
 "metadata": {
  "kernelspec": {
   "display_name": "Python 3",
   "language": "python",
   "name": "python3"
  },
  "language_info": {
   "codemirror_mode": {
    "name": "ipython",
    "version": 2
   },
   "file_extension": ".py",
   "mimetype": "text/x-python",
   "name": "python",
   "nbconvert_exporter": "python",
   "pygments_lexer": "ipython2",
   "version": "2.7.6"
  }
 },
 "nbformat": 4,
 "nbformat_minor": 5
}
